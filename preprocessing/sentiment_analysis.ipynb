{
 "metadata": {
  "language_info": {
   "codemirror_mode": {
    "name": "ipython",
    "version": 3
   },
   "file_extension": ".py",
   "mimetype": "text/x-python",
   "name": "python",
   "nbconvert_exporter": "python",
   "pygments_lexer": "ipython3",
   "version": "3.8.6-candidate"
  },
  "orig_nbformat": 2,
  "kernelspec": {
   "name": "python3",
   "display_name": "Python 3"
  }
 },
 "nbformat": 4,
 "nbformat_minor": 2,
 "cells": [
  {
   "cell_type": "code",
   "execution_count": 4,
   "metadata": {},
   "outputs": [
    {
     "output_type": "stream",
     "name": "stderr",
     "text": [
      "[nltk_data] Downloading package stopwords to\n[nltk_data]     C:\\Users\\gunda\\AppData\\Roaming\\nltk_data...\n[nltk_data]   Package stopwords is already up-to-date!\n[nltk_data] Downloading package punkt to\n[nltk_data]     C:\\Users\\gunda\\AppData\\Roaming\\nltk_data...\n[nltk_data]   Package punkt is already up-to-date!\n[nltk_data] Downloading package wordnet to\n[nltk_data]     C:\\Users\\gunda\\AppData\\Roaming\\nltk_data...\n[nltk_data]   Package wordnet is already up-to-date!\n"
     ]
    }
   ],
   "source": [
    "import json\n",
    "import pickle as pkl\n",
    "import pandas as pd\n",
    "# !python -m pip install --upgrade pip\n",
    "# !python -m pip install spacy\n",
    "import spacy\n",
    "import csv\n",
    "import re as re\n",
    "from tqdm import tqdm\n",
    "from spacy.util import filter_spans\n",
    "from spacy.matcher import Matcher\n",
    "import re\n",
    "# !python -m spacy download en_core_web_sm\n",
    "# !python -m spacy download en\n",
    "nlp = spacy.load#(r'C:\\Users\\gunda\\AppData\\Local\\Programs\\Python\\Python38\\Lib\\site-packages\\spacy\\data\\en\\en_core_web_sm-2.3.1')\n",
    "#!python -m pip install nltk\n",
    "from nltk.sentiment import SentimentAnalyzer\n",
    "from nltk.sentiment.vader import SentimentIntensityAnalyzer\n",
    "#nltk.download('vader_lexicon')\n",
    "from nltk.sentiment.util import *\n",
    "#!python -m pip install text2emotion\n",
    "import text2emotion as te\n",
    "import operator"
   ]
  },
  {
   "cell_type": "code",
   "execution_count": 5,
   "metadata": {},
   "outputs": [],
   "source": [
    "data = pd.read_csv('new_YInt_deleted_adv_accounts.csv')\n",
    "data = data.dropna(axis=0, subset=['message'])"
   ]
  },
  {
   "cell_type": "code",
   "execution_count": 17,
   "metadata": {
    "tags": []
   },
   "outputs": [
    {
     "output_type": "stream",
     "name": "stderr",
     "text": [
      "39390it [1:05:04, 10.09it/s]\n"
     ]
    }
   ],
   "source": [
    "sid = SentimentIntensityAnalyzer()\n",
    "polarity_names = {'neg': 'Negative', 'neu': 'Neutral', 'pos': 'Positive'}\n",
    "for i,j in tqdm(data.iterrows()):\n",
    "    #print(i)\n",
    "    row = list(j)\n",
    "    if not pd.isnull(data.loc[i,'message']):\n",
    "        emotion = te.get_emotion(row[3])\n",
    "        polarity = sid.polarity_scores(row[3])\n",
    "        del polarity['compound']\n",
    "        emotion = max(emotion.items(), key=operator.itemgetter(1))[0]\n",
    "        polarity = max(polarity.items(), key=operator.itemgetter(1))[0]\n",
    "        data.loc[i,'Polarity']= polarity_names[polarity]\n",
    "        data.loc[i,'Emotion']= emotion\n",
    "data.to_csv('new_YInt_sentiments.csv', index = False)"
   ]
  }
 ]
}